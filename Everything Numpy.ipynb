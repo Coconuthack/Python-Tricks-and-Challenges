{
 "cells": [
  {
   "cell_type": "markdown",
   "metadata": {},
   "source": [
    "June 9, 2019\n",
    "\n",
    "Reference: An Essential Guide to Numpy for Machine Learning in Python [by Siddharth Dikshit](https://becominghuman.ai/an-essential-guide-to-numpy-for-machine-learning-in-python-5615e1758301)"
   ]
  },
  {
   "cell_type": "code",
   "execution_count": 1,
   "metadata": {},
   "outputs": [],
   "source": [
    "import numpy as np"
   ]
  },
  {
   "cell_type": "code",
   "execution_count": 4,
   "metadata": {},
   "outputs": [
    {
     "name": "stdout",
     "output_type": "stream",
     "text": [
      "[7 4 1] (3,)\n",
      "[[1]\n",
      " [2]\n",
      " [4]] (3, 1)\n"
     ]
    }
   ],
   "source": [
    "# create a vectors as a Row\n",
    "vector_row = np.array([7,4,1])\n",
    "print(vector_row, vector_row.shape)\n",
    "\n",
    "# column\n",
    "vector_col = np.array([[1],[2],[4]])\n",
    "print(vector_col, vector_col.shape) # 3 rows, 1 column"
   ]
  },
  {
   "cell_type": "code",
   "execution_count": 6,
   "metadata": {},
   "outputs": [
    {
     "name": "stdout",
     "output_type": "stream",
     "text": [
      "[[1 4 7]\n",
      " [2 5 8]\n",
      " [3 6 9]]\n"
     ]
    }
   ],
   "source": [
    "matrix = np.array([[1,4,7],[2,5,8],[3,6,9]]) \n",
    "print(matrix)"
   ]
  },
  {
   "cell_type": "markdown",
   "metadata": {},
   "source": [
    "https://docs.scipy.org/doc/numpy/user/basics.indexing.html"
   ]
  },
  {
   "cell_type": "code",
   "execution_count": 13,
   "metadata": {},
   "outputs": [
    {
     "name": "stdout",
     "output_type": "stream",
     "text": [
      "[[False  True False]\n",
      " [ True False  True]\n",
      " [False  True False]]\n",
      "[[1 0 7]\n",
      " [0 5 0]\n",
      " [3 0 9]]\n",
      "  (0, 0)\t1\n",
      "  (0, 2)\t7\n",
      "  (1, 1)\t5\n",
      "  (2, 0)\t3\n",
      "  (2, 2)\t9\n"
     ]
    }
   ],
   "source": [
    "from scipy.sparse import csr_matrix\n",
    "    \n",
    "# mask index arrays\n",
    "b = matrix % 2 == 0\n",
    "print(b)\n",
    "\n",
    "# spicy sparcity\n",
    "dense_matrix = np.copy(matrix)\n",
    "dense_matrix[b] = 0 \n",
    "print(dense_matrix)\n",
    "\n",
    "matrix_sparse = csr_matrix(dense_matrix)\n",
    "print(matrix_sparse)\n"
   ]
  },
  {
   "cell_type": "code",
   "execution_count": 17,
   "metadata": {},
   "outputs": [
    {
     "data": {
      "text/plain": [
       "matrix([[1, 0, 7],\n",
       "        [0, 5, 0],\n",
       "        [3, 0, 9]], dtype=int32)"
      ]
     },
     "execution_count": 17,
     "metadata": {},
     "output_type": "execute_result"
    }
   ],
   "source": [
    "matrix_sparse.todense()"
   ]
  },
  {
   "cell_type": "code",
   "execution_count": 14,
   "metadata": {
    "collapsed": true
   },
   "outputs": [
    {
     "name": "stdout",
     "output_type": "stream",
     "text": [
      "  (0, 1)\t1.0\n",
      "  (0, 2)\t2.0\n",
      "  (0, 3)\t3.0\n",
      "  (0, 4)\t4.0\n",
      "  (1, 0)\t1.0\n",
      "  (1, 1)\t2.0\n",
      "  (1, 2)\t3.0\n",
      "  (1, 3)\t4.0\n",
      "  (1, 4)\t5.0\n",
      "  (2, 0)\t2.0\n",
      "  (2, 1)\t3.0\n",
      "  (2, 2)\t4.0\n",
      "  (2, 3)\t5.0\n",
      "  (2, 4)\t6.0\n",
      "  (3, 0)\t3.0\n",
      "  (3, 1)\t4.0\n",
      "  (3, 2)\t5.0\n",
      "  (3, 3)\t6.0\n",
      "  (3, 4)\t7.0\n",
      "  (4, 0)\t4.0\n",
      "  (4, 1)\t5.0\n",
      "  (4, 2)\t6.0\n",
      "  (4, 3)\t7.0\n",
      "  (4, 4)\t8.0\n"
     ]
    }
   ],
   "source": [
    "from scipy.sparse import dok_matrix\n",
    "S = dok_matrix((5, 5), dtype=np.float32)\n",
    "for i in range(5):\n",
    "    for j in range(5):\n",
    "        S[i, j] = i + j    # Update element\n",
    "print(S)"
   ]
  },
  {
   "cell_type": "code",
   "execution_count": null,
   "metadata": {},
   "outputs": [],
   "source": []
  },
  {
   "cell_type": "markdown",
   "metadata": {},
   "source": [
    "*Question:* HMM a lot more to sparse matrices that i know, why so many different representations that seem quite similar?\n",
    "\n",
    "source : https://datascience.stackexchange.com/questions/31352/understanding-scipy-sparse-matrix-types\n",
    "\n",
    "a) Sparse types used to construct the matrices:\n",
    "\n",
    "- DOK (Dictionary Of Keys): a dictionary that maps (row, column) to the value of the elements. It uses a hash table so it's efficient to set elements.\n",
    "\n",
    "- LIL (LIst of Lists): LIL stores one list per row. The lil_matrix format is row-based, so if we want to use it then in other operations, conversion to CSR is efficient, whereas conversion to CSC is less so.\n",
    "\n",
    "- COO (COOrdinate list): stores a list of (row, column, value) tuples.\n",
    "\n",
    "b) Sparse types that support efficient access, arithmetic operations, column or row slicing, and matrix-vector products:\n",
    "\n",
    "- CSR (Compressed Sparse Row): similar to COO, but compresses the row indices. Holds all the nonzero entries of M in left-to-right top-to-bottom (\"row-major\") order (all elements in the first row, all elements in the second row, and so). More efficient in row indexing and row slicing, because elements in the same row are stored contiguously in the memory.\n",
    "\n",
    "- CSC (Compressed Sparse Column): similar to CSR except that values are read first by column. More efficient in a column indexing and column slicing.\n",
    "\n",
    "Once the matrices are build using one of the a) types, to perform manipulations such as multiplication or inversion, we should convert the matrix to either CSC or CSR format."
   ]
  },
  {
   "cell_type": "code",
   "execution_count": 20,
   "metadata": {
    "scrolled": true
   },
   "outputs": [
    {
     "name": "stdout",
     "output_type": "stream",
     "text": [
      "[[1 4 7]\n",
      " [2 5 8]\n",
      " [3 6 9]]\n",
      "5 2nd row 2nd col\n",
      "7\n",
      "[3 6 9] last 3 elements\n",
      "[4 5]\n"
     ]
    }
   ],
   "source": [
    "vector_row = matrix.flatten()\n",
    "print(matrix)\n",
    "print(matrix[1,1], \"2nd row 2nd col\") # 2nd row 2nd col\n",
    "print(vector_row[2])\n",
    "print(vector_row[-3:], \"last 3 elements\") # last 3 elements\n",
    "print(matrix[:2,1])  # first two rows, last columng\n"
   ]
  },
  {
   "cell_type": "code",
   "execution_count": 21,
   "metadata": {},
   "outputs": [
    {
     "name": "stdout",
     "output_type": "stream",
     "text": [
      "9\n",
      "2\n"
     ]
    }
   ],
   "source": [
    "print(matrix.size) # number of elements (rows*columns)\n",
    "print(matrix.ndim)\n"
   ]
  },
  {
   "cell_type": "markdown",
   "metadata": {},
   "source": [
    "https://docs.scipy.org/doc/numpy/reference/generated/numpy.vectorize.html"
   ]
  },
  {
   "cell_type": "code",
   "execution_count": 25,
   "metadata": {
    "scrolled": true
   },
   "outputs": [
    {
     "name": "stdout",
     "output_type": "stream",
     "text": [
      "[[1 4 7]\n",
      " [2 5 8]\n",
      " [3 6 9]]\n",
      "[[ 2  8 14]\n",
      " [ 4 10 16]\n",
      " [ 6 12 18]]\n"
     ]
    }
   ],
   "source": [
    "# Numpy's vectorize class\n",
    "# - converts a function to be applied to an array of input\n",
    "double_it = lambda i: i*2\n",
    "vectorized_double_it = np.vectorize(double_it)\n",
    "print(matrix)\n",
    "print(vectorized_double_it(matrix))"
   ]
  },
  {
   "cell_type": "code",
   "execution_count": 26,
   "metadata": {},
   "outputs": [
    {
     "name": "stdout",
     "output_type": "stream",
     "text": [
      "9\n",
      "1\n",
      "[3 6 9]\n",
      "[7 8 9]\n"
     ]
    }
   ],
   "source": [
    "# built in multi-dim functions\n",
    "print(np.max(matrix))\n",
    "print(np.min(matrix))\n",
    "print(np.max(matrix,axis=0)) # per column\n",
    "print(np.max(matrix,axis=1)) # per row"
   ]
  },
  {
   "cell_type": "code",
   "execution_count": 32,
   "metadata": {},
   "outputs": [
    {
     "name": "stdout",
     "output_type": "stream",
     "text": [
      "[2. 5. 8.]\n",
      "2.581988897471611\n",
      "[6. 6. 6.]\n",
      "[12 15 18]\n"
     ]
    }
   ],
   "source": [
    "print(np.mean(matrix, axis =0))\n",
    "print(np.std(matrix))\n",
    "print(np.var(matrix, axis=1))\n",
    "print(np.sum(matrix,axis=1))"
   ]
  },
  {
   "cell_type": "code",
   "execution_count": 36,
   "metadata": {},
   "outputs": [
    {
     "name": "stdout",
     "output_type": "stream",
     "text": [
      "[[1 4 7]\n",
      " [2 5 8]\n",
      " [3 6 9]]\n",
      "[[1]\n",
      " [4]\n",
      " [7]\n",
      " [2]\n",
      " [5]\n",
      " [8]\n",
      " [3]\n",
      " [6]\n",
      " [9]]\n",
      "[[1 4 7 2 5 8 3 6 9]]\n"
     ]
    }
   ],
   "source": [
    "# reshpaing arrays\n",
    "print(matrix)\n",
    "print(matrix.reshape(matrix.size,1)) # (9,1)\n",
    "print(matrix.reshape(1,-1)) # -1 means arbitrarily columns needed"
   ]
  },
  {
   "cell_type": "code",
   "execution_count": 41,
   "metadata": {
    "scrolled": true
   },
   "outputs": [
    {
     "name": "stdout",
     "output_type": "stream",
     "text": [
      "[[1 2 3]\n",
      " [4 5 6]\n",
      " [7 8 9]]\n",
      "[[1 4 7]\n",
      " [2 5 8]\n",
      " [3 6 9]]\n"
     ]
    }
   ],
   "source": [
    "print(matrix.T) # transpose\n",
    "print(matrix)"
   ]
  },
  {
   "cell_type": "code",
   "execution_count": 42,
   "metadata": {},
   "outputs": [
    {
     "name": "stdout",
     "output_type": "stream",
     "text": [
      "0.0\n",
      "2\n"
     ]
    }
   ],
   "source": [
    "# determinant\n",
    "print(np.linalg.det(matrix))\n",
    "# rank\n",
    "print(np.linalg.matrix_rank(matrix))"
   ]
  },
  {
   "cell_type": "code",
   "execution_count": 45,
   "metadata": {},
   "outputs": [
    {
     "name": "stdout",
     "output_type": "stream",
     "text": [
      "[1 5 9]\n",
      "[4 8]\n",
      "[2 6]\n"
     ]
    }
   ],
   "source": [
    "print(matrix.diagonal()) # principal diagonal\n",
    "print(matrix.diagonal(offset=1))\n",
    "print(matrix.diagonal(offset=-1))\n"
   ]
  },
  {
   "cell_type": "code",
   "execution_count": 46,
   "metadata": {
    "scrolled": true
   },
   "outputs": [
    {
     "name": "stdout",
     "output_type": "stream",
     "text": [
      "15\n"
     ]
    }
   ],
   "source": [
    "print(matrix.trace()) # sum of principal diagonals"
   ]
  },
  {
   "cell_type": "code",
   "execution_count": 57,
   "metadata": {},
   "outputs": [
    {
     "name": "stdout",
     "output_type": "stream",
     "text": [
      "[[1 2 3]\n",
      " [4 5 6]\n",
      " [7 8 9]]\n",
      "---\n",
      "[ 1.61168440e+01 -1.11684397e+00 -9.75918483e-16]\n",
      "---\n",
      "[[-0.23197069 -0.78583024  0.40824829]\n",
      " [-0.52532209 -0.08675134 -0.81649658]\n",
      " [-0.8186735   0.61232756  0.40824829]]\n"
     ]
    }
   ],
   "source": [
    "# eigenvalues and eigenvectors\n",
    "# Av = Kv, where A is a square matrix, K the eigenvalues and v the eigenvectors\n",
    "matrix = np.array([[1,2,3],[4,5,6],[7,8,9]])\n",
    "print(matrix)\n",
    "print(\"-\"*matrix.shape[1])\n",
    "\n",
    "eigenvalues ,eigenvectors=np.linalg.eig(matrix)\n",
    "print(eigenvalues)\n",
    "print(\"---\")\n",
    "print(eigenvectors)"
   ]
  },
  {
   "cell_type": "code",
   "execution_count": 69,
   "metadata": {
    "scrolled": true
   },
   "outputs": [
    {
     "data": {
      "text/plain": [
       "array([[-3.73863537e+00,  8.77649763e-01, -3.98417052e-16],\n",
       "       [-8.46653421e+00,  9.68877101e-02,  7.96834105e-16],\n",
       "       [-1.31944331e+01, -6.83874343e-01, -3.98417052e-16]])"
      ]
     },
     "execution_count": 69,
     "metadata": {},
     "output_type": "execute_result"
    }
   ],
   "source": [
    "eigenvalues*eigenvectors #element wis multiplcation"
   ]
  },
  {
   "cell_type": "code",
   "execution_count": 70,
   "metadata": {},
   "outputs": [
    {
     "data": {
      "text/plain": [
       "array([[-3.73863537e+00,  8.77649763e-01, -4.44089210e-16],\n",
       "       [-8.46653421e+00,  9.68877101e-02, -4.44089210e-16],\n",
       "       [-1.31944331e+01, -6.83874343e-01, -8.88178420e-16]])"
      ]
     },
     "execution_count": 70,
     "metadata": {},
     "output_type": "execute_result"
    }
   ],
   "source": [
    "matrix @ eigenvectors"
   ]
  },
  {
   "cell_type": "code",
   "execution_count": 61,
   "metadata": {},
   "outputs": [
    {
     "data": {
      "text/plain": [
       "array([[-3.73863537e+00,  8.77649763e-01, -3.88578059e-16],\n",
       "       [-8.46653421e+00,  9.68877101e-02, -3.33066907e-16],\n",
       "       [-1.31944331e+01, -6.83874343e-01, -7.21644966e-16]])"
      ]
     },
     "execution_count": 61,
     "metadata": {},
     "output_type": "execute_result"
    }
   ],
   "source": [
    "np.dot(matrix,eigenvectors)"
   ]
  },
  {
   "cell_type": "code",
   "execution_count": 66,
   "metadata": {},
   "outputs": [
    {
     "name": "stdout",
     "output_type": "stream",
     "text": [
      "32\n",
      "32\n"
     ]
    }
   ],
   "source": [
    "v1 = np.array([1,2,3])\n",
    "v2 = np.array([4,5,6])\n",
    "print(v1@v2)\n",
    "print(np.dot(v2,v1))"
   ]
  },
  {
   "cell_type": "code",
   "execution_count": 71,
   "metadata": {},
   "outputs": [
    {
     "name": "stdout",
     "output_type": "stream",
     "text": [
      "[[ 3.15251974e+15 -6.30503948e+15  3.15251974e+15]\n",
      " [-6.30503948e+15  1.26100790e+16 -6.30503948e+15]\n",
      " [ 3.15251974e+15 -6.30503948e+15  3.15251974e+15]]\n"
     ]
    }
   ],
   "source": [
    "print(np.linalg.inv(matrix))"
   ]
  },
  {
   "cell_type": "code",
   "execution_count": 75,
   "metadata": {},
   "outputs": [
    {
     "name": "stdout",
     "output_type": "stream",
     "text": [
      "[ 6  0 10]\n"
     ]
    }
   ],
   "source": [
    "# Random Gen with Seed\n",
    "np.random.seed(297)\n",
    "print(np.random.randint(0,11,3))"
   ]
  },
  {
   "cell_type": "code",
   "execution_count": 77,
   "metadata": {},
   "outputs": [
    {
     "name": "stdout",
     "output_type": "stream",
     "text": [
      "[10 10  5]\n"
     ]
    }
   ],
   "source": [
    "np.random.seed(299)\n",
    "print(np.random.randint(0,11,3))"
   ]
  },
  {
   "cell_type": "code",
   "execution_count": 78,
   "metadata": {},
   "outputs": [
    {
     "data": {
      "text/plain": [
       "array([2.43976594, 3.18554496, 2.93333037])"
      ]
     },
     "execution_count": 78,
     "metadata": {},
     "output_type": "execute_result"
    }
   ],
   "source": [
    "#3 from normal distribution with mean 1 and std 2\n",
    "np.random.normal(1.0,2.0,3) "
   ]
  }
 ],
 "metadata": {
  "kernelspec": {
   "display_name": "Python 3",
   "language": "python",
   "name": "python3"
  },
  "language_info": {
   "codemirror_mode": {
    "name": "ipython",
    "version": 3
   },
   "file_extension": ".py",
   "mimetype": "text/x-python",
   "name": "python",
   "nbconvert_exporter": "python",
   "pygments_lexer": "ipython3",
   "version": "3.7.3"
  }
 },
 "nbformat": 4,
 "nbformat_minor": 2
}
