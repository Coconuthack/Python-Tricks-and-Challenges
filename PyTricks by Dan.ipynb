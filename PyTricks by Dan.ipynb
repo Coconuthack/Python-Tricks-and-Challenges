{
 "cells": [
  {
   "cell_type": "markdown",
   "metadata": {},
   "source": [
    "# Code More\n",
    "- Goal is to Write code regularly\n",
    "- my own implementation of the tricks with added links or personal experimetnation"
   ]
  },
  {
   "cell_type": "markdown",
   "metadata": {},
   "source": [
    "Screencast: [A Shorthand for Merging Dictionaries in Python 3.5+](https://www.youtube.com/watch?v=Duexw08KaC8)\n",
    "\n",
    "Detailed info from on [PEP 448 -- Additional Unpacking Generalizations](https://www.python.org/dev/peps/pep-0448/)\n",
    "-  * iterable unpacking operator and ** dictionary unpacking operators \n",
    "-  function calls, in comprehensions and generator expressions, and in displays.\n",
    "\n",
    "More [examples here](https://codeyarns.com/2012/04/26/unpack-operator-in-python/)"
   ]
  },
  {
   "cell_type": "code",
   "execution_count": 6,
   "metadata": {
    "scrolled": true
   },
   "outputs": [
    {
     "name": "stdout",
     "output_type": "stream",
     "text": [
      "{'a': 1, 'b': 2, 'c': 1, 'd': 2}\n",
      "{'a': 1, 'b': 4}\n",
      "a b b c d\n",
      "{'b': 4}\n"
     ]
    }
   ],
   "source": [
    "# How to Merge two dictionaries?\n",
    "# May 25, 2019\n",
    "x = {'a': 1, 'b':2}\n",
    "y = {'b': 3, 'b':4} \n",
    "print({**x, **{'c':1,'d':2}})\n",
    "\n",
    "z = {**x, **y}\n",
    "print(z) # {'a': 1, 'b': 4},  cant have dupes so last one was added\n",
    "\n",
    "# for dicts : ** unpacks the values , while * unpacks the keys\n",
    "print(*x,*y,*{'c':1,'d':2})\n",
    "print(y) # -> cant create duplicates, strangely python does not raise a warning\n",
    "\n",
    "# In these examples, Python merges dictionary keys\n",
    "# in the order listed in the expression, overwriting \n",
    "# duplicates from left to right."
   ]
  },
  {
   "cell_type": "code",
   "execution_count": 14,
   "metadata": {},
   "outputs": [
    {
     "name": "stdout",
     "output_type": "stream",
     "text": [
      "1 23 2 3 x\n"
     ]
    }
   ],
   "source": [
    "print(*[1,23],*[2],3,*{'x':3})"
   ]
  }
 ],
 "metadata": {
  "kernelspec": {
   "display_name": "Python 3",
   "language": "python",
   "name": "python3"
  },
  "language_info": {
   "codemirror_mode": {
    "name": "ipython",
    "version": 3
   },
   "file_extension": ".py",
   "mimetype": "text/x-python",
   "name": "python",
   "nbconvert_exporter": "python",
   "pygments_lexer": "ipython3",
   "version": "3.7.3"
  }
 },
 "nbformat": 4,
 "nbformat_minor": 2
}
